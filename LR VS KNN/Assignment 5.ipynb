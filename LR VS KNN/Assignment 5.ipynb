{
 "cells": [
  {
   "cell_type": "markdown",
   "id": "9c98b9ee",
   "metadata": {},
   "source": [
    "# Find the accuracy, mse, mae using KNN & Linear Regression  algorithm. Make a barplot using these values.\n"
   ]
  },
  {
   "cell_type": "code",
   "execution_count": 59,
   "id": "10af7457",
   "metadata": {},
   "outputs": [
    {
     "data": {
      "text/html": [
       "<div>\n",
       "<style scoped>\n",
       "    .dataframe tbody tr th:only-of-type {\n",
       "        vertical-align: middle;\n",
       "    }\n",
       "\n",
       "    .dataframe tbody tr th {\n",
       "        vertical-align: top;\n",
       "    }\n",
       "\n",
       "    .dataframe thead th {\n",
       "        text-align: right;\n",
       "    }\n",
       "</style>\n",
       "<table border=\"1\" class=\"dataframe\">\n",
       "  <thead>\n",
       "    <tr style=\"text-align: right;\">\n",
       "      <th></th>\n",
       "      <th>age</th>\n",
       "      <th>sex</th>\n",
       "      <th>bmi</th>\n",
       "      <th>children</th>\n",
       "      <th>smoker</th>\n",
       "      <th>region</th>\n",
       "      <th>charges</th>\n",
       "    </tr>\n",
       "  </thead>\n",
       "  <tbody>\n",
       "    <tr>\n",
       "      <th>0</th>\n",
       "      <td>19</td>\n",
       "      <td>female</td>\n",
       "      <td>27.900</td>\n",
       "      <td>0</td>\n",
       "      <td>yes</td>\n",
       "      <td>southwest</td>\n",
       "      <td>16884.92400</td>\n",
       "    </tr>\n",
       "    <tr>\n",
       "      <th>1</th>\n",
       "      <td>18</td>\n",
       "      <td>male</td>\n",
       "      <td>33.770</td>\n",
       "      <td>1</td>\n",
       "      <td>no</td>\n",
       "      <td>southeast</td>\n",
       "      <td>1725.55230</td>\n",
       "    </tr>\n",
       "    <tr>\n",
       "      <th>2</th>\n",
       "      <td>28</td>\n",
       "      <td>male</td>\n",
       "      <td>33.000</td>\n",
       "      <td>3</td>\n",
       "      <td>no</td>\n",
       "      <td>southeast</td>\n",
       "      <td>4449.46200</td>\n",
       "    </tr>\n",
       "    <tr>\n",
       "      <th>3</th>\n",
       "      <td>33</td>\n",
       "      <td>male</td>\n",
       "      <td>22.705</td>\n",
       "      <td>0</td>\n",
       "      <td>no</td>\n",
       "      <td>northwest</td>\n",
       "      <td>21984.47061</td>\n",
       "    </tr>\n",
       "    <tr>\n",
       "      <th>4</th>\n",
       "      <td>32</td>\n",
       "      <td>male</td>\n",
       "      <td>28.880</td>\n",
       "      <td>0</td>\n",
       "      <td>no</td>\n",
       "      <td>northwest</td>\n",
       "      <td>3866.85520</td>\n",
       "    </tr>\n",
       "  </tbody>\n",
       "</table>\n",
       "</div>"
      ],
      "text/plain": [
       "   age     sex     bmi  children smoker     region      charges\n",
       "0   19  female  27.900         0    yes  southwest  16884.92400\n",
       "1   18    male  33.770         1     no  southeast   1725.55230\n",
       "2   28    male  33.000         3     no  southeast   4449.46200\n",
       "3   33    male  22.705         0     no  northwest  21984.47061\n",
       "4   32    male  28.880         0     no  northwest   3866.85520"
      ]
     },
     "execution_count": 59,
     "metadata": {},
     "output_type": "execute_result"
    }
   ],
   "source": [
    "import pandas as pd        \n",
    "import warnings\n",
    "warnings.filterwarnings(\"ignore\")\n",
    "df1 = pd.read_excel('insurance.xlsx')\n",
    "df1.head()"
   ]
  },
  {
   "cell_type": "code",
   "execution_count": 60,
   "id": "fcf0dcc9",
   "metadata": {},
   "outputs": [
    {
     "data": {
      "text/plain": [
       "Index([], dtype='object')"
      ]
     },
     "execution_count": 60,
     "metadata": {},
     "output_type": "execute_result"
    }
   ],
   "source": [
    "df1.columns[df.isna().any()]"
   ]
  },
  {
   "cell_type": "code",
   "execution_count": 61,
   "id": "2d1b3d13",
   "metadata": {},
   "outputs": [
    {
     "data": {
      "text/html": [
       "<div>\n",
       "<style scoped>\n",
       "    .dataframe tbody tr th:only-of-type {\n",
       "        vertical-align: middle;\n",
       "    }\n",
       "\n",
       "    .dataframe tbody tr th {\n",
       "        vertical-align: top;\n",
       "    }\n",
       "\n",
       "    .dataframe thead th {\n",
       "        text-align: right;\n",
       "    }\n",
       "</style>\n",
       "<table border=\"1\" class=\"dataframe\">\n",
       "  <thead>\n",
       "    <tr style=\"text-align: right;\">\n",
       "      <th></th>\n",
       "      <th>age</th>\n",
       "      <th>sex</th>\n",
       "      <th>bmi</th>\n",
       "      <th>children</th>\n",
       "      <th>smoker</th>\n",
       "      <th>region</th>\n",
       "      <th>charges</th>\n",
       "    </tr>\n",
       "  </thead>\n",
       "  <tbody>\n",
       "    <tr>\n",
       "      <th>0</th>\n",
       "      <td>19</td>\n",
       "      <td>0</td>\n",
       "      <td>27.900</td>\n",
       "      <td>0</td>\n",
       "      <td>1</td>\n",
       "      <td>3</td>\n",
       "      <td>16884.92400</td>\n",
       "    </tr>\n",
       "    <tr>\n",
       "      <th>1</th>\n",
       "      <td>18</td>\n",
       "      <td>1</td>\n",
       "      <td>33.770</td>\n",
       "      <td>1</td>\n",
       "      <td>0</td>\n",
       "      <td>2</td>\n",
       "      <td>1725.55230</td>\n",
       "    </tr>\n",
       "    <tr>\n",
       "      <th>2</th>\n",
       "      <td>28</td>\n",
       "      <td>1</td>\n",
       "      <td>33.000</td>\n",
       "      <td>3</td>\n",
       "      <td>0</td>\n",
       "      <td>2</td>\n",
       "      <td>4449.46200</td>\n",
       "    </tr>\n",
       "    <tr>\n",
       "      <th>3</th>\n",
       "      <td>33</td>\n",
       "      <td>1</td>\n",
       "      <td>22.705</td>\n",
       "      <td>0</td>\n",
       "      <td>0</td>\n",
       "      <td>1</td>\n",
       "      <td>21984.47061</td>\n",
       "    </tr>\n",
       "    <tr>\n",
       "      <th>4</th>\n",
       "      <td>32</td>\n",
       "      <td>1</td>\n",
       "      <td>28.880</td>\n",
       "      <td>0</td>\n",
       "      <td>0</td>\n",
       "      <td>1</td>\n",
       "      <td>3866.85520</td>\n",
       "    </tr>\n",
       "  </tbody>\n",
       "</table>\n",
       "</div>"
      ],
      "text/plain": [
       "   age  sex     bmi  children  smoker  region      charges\n",
       "0   19    0  27.900         0       1       3  16884.92400\n",
       "1   18    1  33.770         1       0       2   1725.55230\n",
       "2   28    1  33.000         3       0       2   4449.46200\n",
       "3   33    1  22.705         0       0       1  21984.47061\n",
       "4   32    1  28.880         0       0       1   3866.85520"
      ]
     },
     "execution_count": 61,
     "metadata": {},
     "output_type": "execute_result"
    }
   ],
   "source": [
    "from sklearn.preprocessing import LabelEncoder\n",
    "import numpy as np\n",
    "le = LabelEncoder()\n",
    "\n",
    "for column in df.columns:\n",
    "    if df1[column].dtype == np.object:\n",
    "        df1[column] = le.fit_transform(df1[column])\n",
    "\n",
    "df1.head() "
   ]
  },
  {
   "cell_type": "code",
   "execution_count": 62,
   "id": "481ccdd4",
   "metadata": {},
   "outputs": [],
   "source": [
    "x = df1.drop('sex',axis=1)\n",
    "y = df1[['sex']]\n",
    "from sklearn.model_selection import train_test_split\n",
    "xtrain,xtest,ytrain,ytest =  train_test_split(x,y,test_size=0.3,random_state=5)"
   ]
  },
  {
   "cell_type": "markdown",
   "id": "1845ad09",
   "metadata": {},
   "source": [
    "# KNN Classification"
   ]
  },
  {
   "cell_type": "code",
   "execution_count": 63,
   "id": "5a83bd12",
   "metadata": {},
   "outputs": [
    {
     "data": {
      "text/html": [
       "<style>#sk-container-id-9 {color: black;background-color: white;}#sk-container-id-9 pre{padding: 0;}#sk-container-id-9 div.sk-toggleable {background-color: white;}#sk-container-id-9 label.sk-toggleable__label {cursor: pointer;display: block;width: 100%;margin-bottom: 0;padding: 0.3em;box-sizing: border-box;text-align: center;}#sk-container-id-9 label.sk-toggleable__label-arrow:before {content: \"▸\";float: left;margin-right: 0.25em;color: #696969;}#sk-container-id-9 label.sk-toggleable__label-arrow:hover:before {color: black;}#sk-container-id-9 div.sk-estimator:hover label.sk-toggleable__label-arrow:before {color: black;}#sk-container-id-9 div.sk-toggleable__content {max-height: 0;max-width: 0;overflow: hidden;text-align: left;background-color: #f0f8ff;}#sk-container-id-9 div.sk-toggleable__content pre {margin: 0.2em;color: black;border-radius: 0.25em;background-color: #f0f8ff;}#sk-container-id-9 input.sk-toggleable__control:checked~div.sk-toggleable__content {max-height: 200px;max-width: 100%;overflow: auto;}#sk-container-id-9 input.sk-toggleable__control:checked~label.sk-toggleable__label-arrow:before {content: \"▾\";}#sk-container-id-9 div.sk-estimator input.sk-toggleable__control:checked~label.sk-toggleable__label {background-color: #d4ebff;}#sk-container-id-9 div.sk-label input.sk-toggleable__control:checked~label.sk-toggleable__label {background-color: #d4ebff;}#sk-container-id-9 input.sk-hidden--visually {border: 0;clip: rect(1px 1px 1px 1px);clip: rect(1px, 1px, 1px, 1px);height: 1px;margin: -1px;overflow: hidden;padding: 0;position: absolute;width: 1px;}#sk-container-id-9 div.sk-estimator {font-family: monospace;background-color: #f0f8ff;border: 1px dotted black;border-radius: 0.25em;box-sizing: border-box;margin-bottom: 0.5em;}#sk-container-id-9 div.sk-estimator:hover {background-color: #d4ebff;}#sk-container-id-9 div.sk-parallel-item::after {content: \"\";width: 100%;border-bottom: 1px solid gray;flex-grow: 1;}#sk-container-id-9 div.sk-label:hover label.sk-toggleable__label {background-color: #d4ebff;}#sk-container-id-9 div.sk-serial::before {content: \"\";position: absolute;border-left: 1px solid gray;box-sizing: border-box;top: 0;bottom: 0;left: 50%;z-index: 0;}#sk-container-id-9 div.sk-serial {display: flex;flex-direction: column;align-items: center;background-color: white;padding-right: 0.2em;padding-left: 0.2em;position: relative;}#sk-container-id-9 div.sk-item {position: relative;z-index: 1;}#sk-container-id-9 div.sk-parallel {display: flex;align-items: stretch;justify-content: center;background-color: white;position: relative;}#sk-container-id-9 div.sk-item::before, #sk-container-id-9 div.sk-parallel-item::before {content: \"\";position: absolute;border-left: 1px solid gray;box-sizing: border-box;top: 0;bottom: 0;left: 50%;z-index: -1;}#sk-container-id-9 div.sk-parallel-item {display: flex;flex-direction: column;z-index: 1;position: relative;background-color: white;}#sk-container-id-9 div.sk-parallel-item:first-child::after {align-self: flex-end;width: 50%;}#sk-container-id-9 div.sk-parallel-item:last-child::after {align-self: flex-start;width: 50%;}#sk-container-id-9 div.sk-parallel-item:only-child::after {width: 0;}#sk-container-id-9 div.sk-dashed-wrapped {border: 1px dashed gray;margin: 0 0.4em 0.5em 0.4em;box-sizing: border-box;padding-bottom: 0.4em;background-color: white;}#sk-container-id-9 div.sk-label label {font-family: monospace;font-weight: bold;display: inline-block;line-height: 1.2em;}#sk-container-id-9 div.sk-label-container {text-align: center;}#sk-container-id-9 div.sk-container {/* jupyter's `normalize.less` sets `[hidden] { display: none; }` but bootstrap.min.css set `[hidden] { display: none !important; }` so we also need the `!important` here to be able to override the default hidden behavior on the sphinx rendered scikit-learn.org. See: https://github.com/scikit-learn/scikit-learn/issues/21755 */display: inline-block !important;position: relative;}#sk-container-id-9 div.sk-text-repr-fallback {display: none;}</style><div id=\"sk-container-id-9\" class=\"sk-top-container\"><div class=\"sk-text-repr-fallback\"><pre>KNeighborsClassifier(n_neighbors=3, p=1, weights=&#x27;distance&#x27;)</pre><b>In a Jupyter environment, please rerun this cell to show the HTML representation or trust the notebook. <br />On GitHub, the HTML representation is unable to render, please try loading this page with nbviewer.org.</b></div><div class=\"sk-container\" hidden><div class=\"sk-item\"><div class=\"sk-estimator sk-toggleable\"><input class=\"sk-toggleable__control sk-hidden--visually\" id=\"sk-estimator-id-9\" type=\"checkbox\" checked><label for=\"sk-estimator-id-9\" class=\"sk-toggleable__label sk-toggleable__label-arrow\">KNeighborsClassifier</label><div class=\"sk-toggleable__content\"><pre>KNeighborsClassifier(n_neighbors=3, p=1, weights=&#x27;distance&#x27;)</pre></div></div></div></div></div>"
      ],
      "text/plain": [
       "KNeighborsClassifier(n_neighbors=3, p=1, weights='distance')"
      ]
     },
     "execution_count": 63,
     "metadata": {},
     "output_type": "execute_result"
    }
   ],
   "source": [
    "from sklearn.neighbors import KNeighborsClassifier\n",
    "knn = KNeighborsClassifier(n_neighbors=3,p=1,weights='distance')\n",
    "knn.fit(xtrain, ytrain)"
   ]
  },
  {
   "cell_type": "code",
   "execution_count": 64,
   "id": "4aae1374",
   "metadata": {},
   "outputs": [
    {
     "data": {
      "text/plain": [
       "array([0, 0, 0, 0, 0, 1, 1, 1, 0, 0, 1, 0, 0, 1, 0, 0, 0, 1, 1, 0, 1, 0,\n",
       "       0, 1, 0, 0, 0, 1, 0, 0, 0, 1, 1, 0, 1, 1, 0, 1, 0, 0, 0, 0, 1, 0,\n",
       "       0, 1, 0, 1, 1, 0, 0, 1, 1, 0, 1, 0, 0, 0, 1, 1, 0, 1, 1, 1, 0, 0,\n",
       "       1, 0, 1, 1, 0, 1, 0, 1, 1, 1, 1, 0, 0, 1, 1, 1, 0, 0, 0, 1, 0, 0,\n",
       "       1, 0, 1, 0, 1, 1, 1, 1, 0, 1, 1, 0, 0, 0, 0, 0, 0, 0, 0, 0, 0, 1,\n",
       "       0, 0, 0, 1, 1, 0, 1, 0, 0, 1, 1, 0, 1, 0, 0, 1, 1, 1, 1, 1, 0, 1,\n",
       "       0, 0, 1, 0, 0, 0, 1, 1, 0, 1, 1, 0, 0, 0, 0, 1, 0, 0, 1, 1, 0, 0,\n",
       "       1, 1, 0, 0, 0, 1, 0, 0, 0, 0, 0, 1, 0, 0, 1, 0, 0, 0, 1, 1, 0, 0,\n",
       "       1, 0, 1, 1, 0, 1, 1, 1, 0, 1, 1, 0, 0, 0, 0, 0, 1, 1, 0, 1, 1, 0,\n",
       "       0, 0, 0, 0, 1, 0, 1, 0, 1, 1, 0, 1, 1, 0, 0, 1, 1, 0, 1, 1, 0, 1,\n",
       "       1, 0, 0, 1, 1, 0, 1, 1, 1, 0, 0, 1, 1, 0, 1, 0, 0, 1, 0, 1, 0, 1,\n",
       "       0, 0, 0, 1, 0, 0, 1, 1, 0, 1, 1, 0, 1, 0, 1, 0, 1, 1, 0, 0, 1, 1,\n",
       "       1, 1, 0, 0, 1, 0, 1, 1, 0, 1, 1, 1, 1, 1, 0, 0, 1, 0, 0, 0, 1, 0,\n",
       "       0, 0, 1, 0, 0, 1, 0, 1, 0, 1, 0, 0, 1, 1, 1, 0, 1, 0, 1, 1, 1, 0,\n",
       "       0, 1, 1, 0, 1, 1, 0, 0, 0, 0, 0, 1, 1, 1, 0, 1, 1, 0, 1, 0, 1, 0,\n",
       "       0, 0, 1, 1, 1, 0, 0, 1, 0, 1, 1, 0, 1, 1, 0, 0, 1, 1, 1, 0, 0, 0,\n",
       "       0, 0, 0, 0, 0, 1, 1, 1, 1, 1, 0, 1, 0, 1, 1, 0, 1, 1, 1, 1, 0, 0,\n",
       "       0, 1, 0, 1, 0, 0, 1, 0, 0, 1, 0, 1, 1, 0, 1, 0, 0, 1, 0, 1, 1, 0,\n",
       "       0, 1, 1, 0, 0, 1])"
      ]
     },
     "execution_count": 64,
     "metadata": {},
     "output_type": "execute_result"
    }
   ],
   "source": [
    "ypredk = knn.predict(xtest)\n",
    "ypredk"
   ]
  },
  {
   "cell_type": "code",
   "execution_count": 68,
   "id": "772f780a",
   "metadata": {},
   "outputs": [
    {
     "data": {
      "text/html": [
       "<div>\n",
       "<style scoped>\n",
       "    .dataframe tbody tr th:only-of-type {\n",
       "        vertical-align: middle;\n",
       "    }\n",
       "\n",
       "    .dataframe tbody tr th {\n",
       "        vertical-align: top;\n",
       "    }\n",
       "\n",
       "    .dataframe thead th {\n",
       "        text-align: right;\n",
       "    }\n",
       "</style>\n",
       "<table border=\"1\" class=\"dataframe\">\n",
       "  <thead>\n",
       "    <tr style=\"text-align: right;\">\n",
       "      <th></th>\n",
       "      <th>Actual</th>\n",
       "      <th>Prediction</th>\n",
       "    </tr>\n",
       "  </thead>\n",
       "  <tbody>\n",
       "    <tr>\n",
       "      <th>0</th>\n",
       "      <td>0</td>\n",
       "      <td>0</td>\n",
       "    </tr>\n",
       "    <tr>\n",
       "      <th>1</th>\n",
       "      <td>1</td>\n",
       "      <td>0</td>\n",
       "    </tr>\n",
       "    <tr>\n",
       "      <th>2</th>\n",
       "      <td>0</td>\n",
       "      <td>0</td>\n",
       "    </tr>\n",
       "    <tr>\n",
       "      <th>3</th>\n",
       "      <td>0</td>\n",
       "      <td>0</td>\n",
       "    </tr>\n",
       "    <tr>\n",
       "      <th>4</th>\n",
       "      <td>0</td>\n",
       "      <td>0</td>\n",
       "    </tr>\n",
       "  </tbody>\n",
       "</table>\n",
       "</div>"
      ],
      "text/plain": [
       "   Actual  Prediction\n",
       "0       0           0\n",
       "1       1           0\n",
       "2       0           0\n",
       "3       0           0\n",
       "4       0           0"
      ]
     },
     "execution_count": 68,
     "metadata": {},
     "output_type": "execute_result"
    }
   ],
   "source": [
    "ytestk = np.ravel(ytest)\n",
    "df_pred = pd.DataFrame({'Actual': ytestk, 'Prediction': ypredk,})\n",
    "df_pred.head()"
   ]
  },
  {
   "cell_type": "code",
   "execution_count": 69,
   "id": "43a4b161",
   "metadata": {},
   "outputs": [
    {
     "data": {
      "text/plain": [
       "0.6965174129353234"
      ]
     },
     "execution_count": 69,
     "metadata": {},
     "output_type": "execute_result"
    }
   ],
   "source": [
    "knn_accuracy = knn.score(xtest,ytest)\n",
    "knn_accuracy"
   ]
  },
  {
   "cell_type": "code",
   "execution_count": 70,
   "id": "cf9a36af",
   "metadata": {},
   "outputs": [
    {
     "data": {
      "text/plain": [
       "0.3034825870646766"
      ]
     },
     "execution_count": 70,
     "metadata": {},
     "output_type": "execute_result"
    }
   ],
   "source": [
    "from sklearn.metrics import mean_squared_error, mean_absolute_error\n",
    "knn_mse = mean_squared_error(ytest,ypredk)\n",
    "knn_mse"
   ]
  },
  {
   "cell_type": "code",
   "execution_count": 71,
   "id": "d5e36ca7",
   "metadata": {},
   "outputs": [
    {
     "data": {
      "text/plain": [
       "0.3034825870646766"
      ]
     },
     "execution_count": 71,
     "metadata": {},
     "output_type": "execute_result"
    }
   ],
   "source": [
    "knn_mae = mean_absolute_error(ytest,ypredk)\n",
    "knn_mae"
   ]
  },
  {
   "cell_type": "markdown",
   "id": "0a52ab07",
   "metadata": {},
   "source": [
    "# Linear Regression"
   ]
  },
  {
   "cell_type": "code",
   "execution_count": 72,
   "id": "332d10e3",
   "metadata": {},
   "outputs": [
    {
     "data": {
      "text/html": [
       "<style>#sk-container-id-10 {color: black;background-color: white;}#sk-container-id-10 pre{padding: 0;}#sk-container-id-10 div.sk-toggleable {background-color: white;}#sk-container-id-10 label.sk-toggleable__label {cursor: pointer;display: block;width: 100%;margin-bottom: 0;padding: 0.3em;box-sizing: border-box;text-align: center;}#sk-container-id-10 label.sk-toggleable__label-arrow:before {content: \"▸\";float: left;margin-right: 0.25em;color: #696969;}#sk-container-id-10 label.sk-toggleable__label-arrow:hover:before {color: black;}#sk-container-id-10 div.sk-estimator:hover label.sk-toggleable__label-arrow:before {color: black;}#sk-container-id-10 div.sk-toggleable__content {max-height: 0;max-width: 0;overflow: hidden;text-align: left;background-color: #f0f8ff;}#sk-container-id-10 div.sk-toggleable__content pre {margin: 0.2em;color: black;border-radius: 0.25em;background-color: #f0f8ff;}#sk-container-id-10 input.sk-toggleable__control:checked~div.sk-toggleable__content {max-height: 200px;max-width: 100%;overflow: auto;}#sk-container-id-10 input.sk-toggleable__control:checked~label.sk-toggleable__label-arrow:before {content: \"▾\";}#sk-container-id-10 div.sk-estimator input.sk-toggleable__control:checked~label.sk-toggleable__label {background-color: #d4ebff;}#sk-container-id-10 div.sk-label input.sk-toggleable__control:checked~label.sk-toggleable__label {background-color: #d4ebff;}#sk-container-id-10 input.sk-hidden--visually {border: 0;clip: rect(1px 1px 1px 1px);clip: rect(1px, 1px, 1px, 1px);height: 1px;margin: -1px;overflow: hidden;padding: 0;position: absolute;width: 1px;}#sk-container-id-10 div.sk-estimator {font-family: monospace;background-color: #f0f8ff;border: 1px dotted black;border-radius: 0.25em;box-sizing: border-box;margin-bottom: 0.5em;}#sk-container-id-10 div.sk-estimator:hover {background-color: #d4ebff;}#sk-container-id-10 div.sk-parallel-item::after {content: \"\";width: 100%;border-bottom: 1px solid gray;flex-grow: 1;}#sk-container-id-10 div.sk-label:hover label.sk-toggleable__label {background-color: #d4ebff;}#sk-container-id-10 div.sk-serial::before {content: \"\";position: absolute;border-left: 1px solid gray;box-sizing: border-box;top: 0;bottom: 0;left: 50%;z-index: 0;}#sk-container-id-10 div.sk-serial {display: flex;flex-direction: column;align-items: center;background-color: white;padding-right: 0.2em;padding-left: 0.2em;position: relative;}#sk-container-id-10 div.sk-item {position: relative;z-index: 1;}#sk-container-id-10 div.sk-parallel {display: flex;align-items: stretch;justify-content: center;background-color: white;position: relative;}#sk-container-id-10 div.sk-item::before, #sk-container-id-10 div.sk-parallel-item::before {content: \"\";position: absolute;border-left: 1px solid gray;box-sizing: border-box;top: 0;bottom: 0;left: 50%;z-index: -1;}#sk-container-id-10 div.sk-parallel-item {display: flex;flex-direction: column;z-index: 1;position: relative;background-color: white;}#sk-container-id-10 div.sk-parallel-item:first-child::after {align-self: flex-end;width: 50%;}#sk-container-id-10 div.sk-parallel-item:last-child::after {align-self: flex-start;width: 50%;}#sk-container-id-10 div.sk-parallel-item:only-child::after {width: 0;}#sk-container-id-10 div.sk-dashed-wrapped {border: 1px dashed gray;margin: 0 0.4em 0.5em 0.4em;box-sizing: border-box;padding-bottom: 0.4em;background-color: white;}#sk-container-id-10 div.sk-label label {font-family: monospace;font-weight: bold;display: inline-block;line-height: 1.2em;}#sk-container-id-10 div.sk-label-container {text-align: center;}#sk-container-id-10 div.sk-container {/* jupyter's `normalize.less` sets `[hidden] { display: none; }` but bootstrap.min.css set `[hidden] { display: none !important; }` so we also need the `!important` here to be able to override the default hidden behavior on the sphinx rendered scikit-learn.org. See: https://github.com/scikit-learn/scikit-learn/issues/21755 */display: inline-block !important;position: relative;}#sk-container-id-10 div.sk-text-repr-fallback {display: none;}</style><div id=\"sk-container-id-10\" class=\"sk-top-container\"><div class=\"sk-text-repr-fallback\"><pre>LinearRegression()</pre><b>In a Jupyter environment, please rerun this cell to show the HTML representation or trust the notebook. <br />On GitHub, the HTML representation is unable to render, please try loading this page with nbviewer.org.</b></div><div class=\"sk-container\" hidden><div class=\"sk-item\"><div class=\"sk-estimator sk-toggleable\"><input class=\"sk-toggleable__control sk-hidden--visually\" id=\"sk-estimator-id-10\" type=\"checkbox\" checked><label for=\"sk-estimator-id-10\" class=\"sk-toggleable__label sk-toggleable__label-arrow\">LinearRegression</label><div class=\"sk-toggleable__content\"><pre>LinearRegression()</pre></div></div></div></div></div>"
      ],
      "text/plain": [
       "LinearRegression()"
      ]
     },
     "execution_count": 72,
     "metadata": {},
     "output_type": "execute_result"
    }
   ],
   "source": [
    "x2 = df1.drop('charges',axis=1)\n",
    "y2 = df1[['charges']]\n",
    "xtrain2,xtest2,ytrain2,ytest2 =  train_test_split(x2,y2,test_size=0.3,random_state=5)\n",
    "\n",
    "from sklearn.linear_model import LinearRegression\n",
    "li = LinearRegression()\n",
    "li.fit(xtrain2, ytrain2)"
   ]
  },
  {
   "cell_type": "code",
   "execution_count": 73,
   "id": "daf36ef4",
   "metadata": {},
   "outputs": [
    {
     "data": {
      "text/plain": [
       "array([[ 2812.9783187 ],\n",
       "       [28003.9431294 ],\n",
       "       [11641.21899878],\n",
       "       [ 4803.26570367],\n",
       "       [ 8527.60628887],\n",
       "       [35564.01662571],\n",
       "       [11667.14768055],\n",
       "       [11537.86884315],\n",
       "       [ 8528.98467807],\n",
       "       [10876.33769211],\n",
       "       [15361.65163122],\n",
       "       [11017.09759765],\n",
       "       [ 5129.37047119],\n",
       "       [ 9155.79306485],\n",
       "       [ 8453.11211396],\n",
       "       [ 9154.14178028],\n",
       "       [32174.30151291],\n",
       "       [12682.126851  ],\n",
       "       [13491.86473327],\n",
       "       [ 7681.89657901],\n",
       "       [29333.66019259],\n",
       "       [ 1911.04284324],\n",
       "       [ 2869.85089652],\n",
       "       [ 3995.29193048],\n",
       "       [ 2831.00579376],\n",
       "       [ 9383.29325355],\n",
       "       [37485.83675916],\n",
       "       [17126.17026189],\n",
       "       [10705.6341586 ],\n",
       "       [14089.57698985],\n",
       "       [13343.55281684],\n",
       "       [  813.08799459],\n",
       "       [ 5625.21948895],\n",
       "       [11018.16438135],\n",
       "       [31813.43016461],\n",
       "       [ 4206.49520554],\n",
       "       [ 6409.40952464],\n",
       "       [ 2624.3779738 ],\n",
       "       [ 6457.00862721],\n",
       "       [ 5912.90477914],\n",
       "       [ 3394.02939308],\n",
       "       [37422.6558459 ],\n",
       "       [30821.70631707],\n",
       "       [30252.59539938],\n",
       "       [10741.41046681],\n",
       "       [ 7666.19739417],\n",
       "       [35423.87237266],\n",
       "       [ 3129.92936564],\n",
       "       [19481.18420036],\n",
       "       [ 4868.12244101],\n",
       "       [10411.85316653],\n",
       "       [29162.1476943 ],\n",
       "       [ 3813.17999727],\n",
       "       [ 4208.90501073],\n",
       "       [  874.16220328],\n",
       "       [ 7572.75517915],\n",
       "       [36953.71417023],\n",
       "       [ 3218.70751882],\n",
       "       [10530.50517045],\n",
       "       [12363.90115041],\n",
       "       [12410.56309766],\n",
       "       [29322.54588536],\n",
       "       [36115.69693156],\n",
       "       [ 3013.44821433],\n",
       "       [ 8308.23216963],\n",
       "       [ 4411.39254118],\n",
       "       [  570.08287972],\n",
       "       [11635.67244186],\n",
       "       [13507.64206334],\n",
       "       [36200.26118413],\n",
       "       [ 3406.21518347],\n",
       "       [17222.44328889],\n",
       "       [ 2771.64748441],\n",
       "       [ 1845.02649936],\n",
       "       [ 8212.92743407],\n",
       "       [11166.3809863 ],\n",
       "       [11188.65247462],\n",
       "       [34906.67777935],\n",
       "       [14494.56089728],\n",
       "       [ 7264.5100839 ],\n",
       "       [ 3872.85644342],\n",
       "       [28937.83797489],\n",
       "       [13750.18474724],\n",
       "       [ 2188.51846104],\n",
       "       [ 6707.42280404],\n",
       "       [32203.09909214],\n",
       "       [ 8454.34868583],\n",
       "       [ 4156.66869735],\n",
       "       [ 7903.98884733],\n",
       "       [15556.01071169],\n",
       "       [ 7671.02320602],\n",
       "       [15499.75044394],\n",
       "       [ 1709.31621393],\n",
       "       [ 5191.50493227],\n",
       "       [ 6030.01249194],\n",
       "       [25147.22408876],\n",
       "       [ 4151.17353096],\n",
       "       [ 4787.17340207],\n",
       "       [ 7623.31009533],\n",
       "       [13790.71468222],\n",
       "       [31604.4194868 ],\n",
       "       [ 3139.45740192],\n",
       "       [26957.50760213],\n",
       "       [11297.89674445],\n",
       "       [12089.56785746],\n",
       "       [11413.38361516],\n",
       "       [ 7827.20414224],\n",
       "       [ 4370.15874952],\n",
       "       [ 8143.59897718],\n",
       "       [27067.42305027],\n",
       "       [16036.05115512],\n",
       "       [34398.71844633],\n",
       "       [ 3395.54873404],\n",
       "       [27599.30764482],\n",
       "       [ 3643.5766988 ],\n",
       "       [ 8588.76869364],\n",
       "       [ 6798.80922536],\n",
       "       [ 4570.0568129 ],\n",
       "       [ 9976.56605831],\n",
       "       [30891.64853739],\n",
       "       [ 2813.27439283],\n",
       "       [27244.29677416],\n",
       "       [10486.13796948],\n",
       "       [ 9377.63403374],\n",
       "       [ 3947.30058853],\n",
       "       [12589.77833971],\n",
       "       [ 5729.45221677],\n",
       "       [ 7025.73526287],\n",
       "       [11908.31523685],\n",
       "       [32445.78041257],\n",
       "       [ 3304.91182519],\n",
       "       [16521.35194766],\n",
       "       [26370.98917057],\n",
       "       [ 6036.73761808],\n",
       "       [35909.19110439],\n",
       "       [ 7771.64207724],\n",
       "       [ 1878.16426519],\n",
       "       [ 2930.44473873],\n",
       "       [ 3173.87229823],\n",
       "       [ 2127.27789552],\n",
       "       [ 8864.19226711],\n",
       "       [ 5029.54166736],\n",
       "       [36378.59194942],\n",
       "       [ 7262.04459128],\n",
       "       [ 1044.08834981],\n",
       "       [ 5733.93096279],\n",
       "       [13703.34185007],\n",
       "       [13061.75724764],\n",
       "       [10903.52120298],\n",
       "       [10149.1154531 ],\n",
       "       [ 4096.73624051],\n",
       "       [16397.66204585],\n",
       "       [34250.03468734],\n",
       "       [27709.43894387],\n",
       "       [34318.381226  ],\n",
       "       [ 5666.78839472],\n",
       "       [ 4623.91190589],\n",
       "       [ -269.42223025],\n",
       "       [12199.61669886],\n",
       "       [ 4602.37687554],\n",
       "       [ 6911.12228974],\n",
       "       [23354.82280179],\n",
       "       [37193.71551598],\n",
       "       [10058.83684083],\n",
       "       [ 5742.59204716],\n",
       "       [17079.33860729],\n",
       "       [12418.48695111],\n",
       "       [14359.09728453],\n",
       "       [ 9693.5292215 ],\n",
       "       [ 8367.74328984],\n",
       "       [ 7167.57000207],\n",
       "       [10911.85943929],\n",
       "       [10630.99201726],\n",
       "       [  974.77636695],\n",
       "       [ 9176.43215047],\n",
       "       [29065.95625938],\n",
       "       [ 8895.60624525],\n",
       "       [13275.44761126],\n",
       "       [ 9767.07293604],\n",
       "       [ 6254.82848617],\n",
       "       [10345.62275125],\n",
       "       [11301.89041276],\n",
       "       [31295.31205458],\n",
       "       [30411.45495325],\n",
       "       [ 6153.83855715],\n",
       "       [ 8591.05117016],\n",
       "       [16159.82255638],\n",
       "       [11868.50374353],\n",
       "       [13297.40382182],\n",
       "       [40299.55479908],\n",
       "       [12069.76466845],\n",
       "       [13216.07807116],\n",
       "       [ 5427.58604741],\n",
       "       [34309.11906232],\n",
       "       [ 5803.28301281],\n",
       "       [41302.16157159],\n",
       "       [14523.73047698],\n",
       "       [32358.95949552],\n",
       "       [15694.70063739],\n",
       "       [ 4481.9612422 ],\n",
       "       [ 7350.63048298],\n",
       "       [11374.09916758],\n",
       "       [  953.73053779],\n",
       "       [14419.12916821],\n",
       "       [10389.57651575],\n",
       "       [ 7709.58499215],\n",
       "       [32064.5948929 ],\n",
       "       [33452.10366112],\n",
       "       [ -175.40912564],\n",
       "       [ 3331.68618468],\n",
       "       [ 7470.37706801],\n",
       "       [ 6365.13283127],\n",
       "       [10225.03940774],\n",
       "       [ 4214.82588335],\n",
       "       [  412.76249506],\n",
       "       [12099.43907332],\n",
       "       [10557.67409635],\n",
       "       [11261.47784012],\n",
       "       [ 9868.18675871],\n",
       "       [ -104.20253975],\n",
       "       [ 4048.54036733],\n",
       "       [10232.7378546 ],\n",
       "       [ 3530.85259397],\n",
       "       [14208.56369722],\n",
       "       [  167.61481644],\n",
       "       [15679.61806323],\n",
       "       [33975.72123444],\n",
       "       [15261.55695849],\n",
       "       [ 1819.00259503],\n",
       "       [ 5849.18413972],\n",
       "       [ 6658.29304894],\n",
       "       [11834.34588508],\n",
       "       [33424.66558922],\n",
       "       [13254.51914444],\n",
       "       [  162.978552  ],\n",
       "       [ 7850.90119049],\n",
       "       [ -967.68937162],\n",
       "       [ 4541.43365228],\n",
       "       [36859.79063055],\n",
       "       [ 1884.23596328],\n",
       "       [ 3598.35911255],\n",
       "       [30522.02328189],\n",
       "       [ 5615.67926372],\n",
       "       [12266.86865641],\n",
       "       [32985.1989091 ],\n",
       "       [ 6089.01010868],\n",
       "       [17809.12147698],\n",
       "       [13539.70978756],\n",
       "       [39374.22966107],\n",
       "       [ 5907.61947617],\n",
       "       [ 8127.01825916],\n",
       "       [28832.12606219],\n",
       "       [30993.14048118],\n",
       "       [10385.36165695],\n",
       "       [12078.91512743],\n",
       "       [ 8109.19444605],\n",
       "       [ 3090.04057713],\n",
       "       [ 9333.90662221],\n",
       "       [ 6219.98134861],\n",
       "       [ 6857.84604368],\n",
       "       [ 4840.14695818],\n",
       "       [ 2179.49532703],\n",
       "       [10707.54860169],\n",
       "       [31397.08590559],\n",
       "       [ 4020.26554876],\n",
       "       [ -748.06164954],\n",
       "       [23726.56281182],\n",
       "       [32398.09741452],\n",
       "       [ 7019.84132209],\n",
       "       [ 2109.94998024],\n",
       "       [ 2592.7985889 ],\n",
       "       [ 3382.65255567],\n",
       "       [ 1158.15969591],\n",
       "       [ 1873.98717012],\n",
       "       [15365.14709018],\n",
       "       [31383.51701846],\n",
       "       [ 8788.0689474 ],\n",
       "       [ 4840.14695818],\n",
       "       [17203.38019355],\n",
       "       [ 7047.56224389],\n",
       "       [14518.19618982],\n",
       "       [ 7092.17876262],\n",
       "       [10025.3002198 ],\n",
       "       [38955.45903021],\n",
       "       [13452.63860638],\n",
       "       [ 2490.2059149 ],\n",
       "       [37361.403957  ],\n",
       "       [12738.14808536],\n",
       "       [36073.62216163],\n",
       "       [ 2500.74838987],\n",
       "       [10434.69219021],\n",
       "       [ 7835.11811016],\n",
       "       [ 3304.08407486],\n",
       "       [ 7185.00962576],\n",
       "       [25884.5702038 ],\n",
       "       [ 1687.33179531],\n",
       "       [ 3119.29542487],\n",
       "       [  778.75940161],\n",
       "       [12960.39117916],\n",
       "       [ 9521.07487215],\n",
       "       [ 6773.79091318],\n",
       "       [23526.21131382],\n",
       "       [18217.63112573],\n",
       "       [35572.96956812],\n",
       "       [14605.74542225],\n",
       "       [14215.34578701],\n",
       "       [11391.68865856],\n",
       "       [34656.26545102],\n",
       "       [11004.26834556],\n",
       "       [36182.32892793],\n",
       "       [ 5671.79658252],\n",
       "       [ 6394.8822161 ],\n",
       "       [ 2379.726193  ],\n",
       "       [32982.28325525],\n",
       "       [ 9426.42301709],\n",
       "       [15224.33819385],\n",
       "       [12881.82501359],\n",
       "       [33997.57076959],\n",
       "       [ 8471.57612716],\n",
       "       [ 6279.71158133],\n",
       "       [10103.04230361],\n",
       "       [ 7304.58179218],\n",
       "       [16576.55667426],\n",
       "       [32446.74114551],\n",
       "       [10990.76543023],\n",
       "       [ 2099.48574683],\n",
       "       [11258.97658094],\n",
       "       [14864.12018097],\n",
       "       [ 6050.15464073],\n",
       "       [16704.31856673],\n",
       "       [16547.18822096],\n",
       "       [ 9558.15078047],\n",
       "       [ 9910.3440671 ],\n",
       "       [ 5470.88734206],\n",
       "       [ 4229.29279321],\n",
       "       [ 4082.33299904],\n",
       "       [14790.95540077],\n",
       "       [ 6721.80916083],\n",
       "       [ 7002.47668206],\n",
       "       [11573.62291527],\n",
       "       [ 9722.50120383],\n",
       "       [11756.0700471 ],\n",
       "       [ -336.58933412],\n",
       "       [36529.48287513],\n",
       "       [ 8151.64679328],\n",
       "       [11646.32766053],\n",
       "       [14157.91460117],\n",
       "       [11845.29605809],\n",
       "       [ 7596.97696973],\n",
       "       [14040.14558379],\n",
       "       [37360.29471381],\n",
       "       [31021.33189573],\n",
       "       [27962.65802802],\n",
       "       [ 1190.41840168],\n",
       "       [11886.36667741],\n",
       "       [10254.47622888],\n",
       "       [13290.63296278],\n",
       "       [ 2306.9008275 ],\n",
       "       [28193.36804383],\n",
       "       [29157.6712635 ],\n",
       "       [28602.75914867],\n",
       "       [11453.19940538],\n",
       "       [ 9073.79700146],\n",
       "       [ 7458.69745983],\n",
       "       [28019.12848093],\n",
       "       [34073.16096345],\n",
       "       [ 9412.51843987],\n",
       "       [11346.04680393],\n",
       "       [11376.20587216],\n",
       "       [10995.98579668],\n",
       "       [37006.54726604],\n",
       "       [ 2704.67701972],\n",
       "       [ 8174.32032569],\n",
       "       [16363.011563  ],\n",
       "       [ 1121.91864151],\n",
       "       [ 4225.41409121],\n",
       "       [ 4997.0553442 ],\n",
       "       [34545.97431834],\n",
       "       [ 1505.14393576],\n",
       "       [15530.73775767],\n",
       "       [13762.27109897],\n",
       "       [ 4076.1471884 ],\n",
       "       [-1958.89237488],\n",
       "       [30238.33174082],\n",
       "       [ 8549.70431676],\n",
       "       [30875.33370006],\n",
       "       [11484.42239827],\n",
       "       [25252.36512739],\n",
       "       [29962.74499131],\n",
       "       [14412.36596029],\n",
       "       [ 8807.48708142],\n",
       "       [11329.32848466],\n",
       "       [ 3011.8821941 ],\n",
       "       [ 6671.80823403],\n",
       "       [14429.2549451 ],\n",
       "       [ 8669.74267904],\n",
       "       [14571.20465061],\n",
       "       [32802.63210341],\n",
       "       [30224.05238118],\n",
       "       [ 8779.42148983],\n",
       "       [ 4803.99401905],\n",
       "       [ 8272.97493802]])"
      ]
     },
     "execution_count": 73,
     "metadata": {},
     "output_type": "execute_result"
    }
   ],
   "source": [
    "ypredl = li.predict(xtest2)\n",
    "ypredl"
   ]
  },
  {
   "cell_type": "code",
   "execution_count": 74,
   "id": "c2fef2fe",
   "metadata": {},
   "outputs": [
    {
     "data": {
      "text/html": [
       "<div>\n",
       "<style scoped>\n",
       "    .dataframe tbody tr th:only-of-type {\n",
       "        vertical-align: middle;\n",
       "    }\n",
       "\n",
       "    .dataframe tbody tr th {\n",
       "        vertical-align: top;\n",
       "    }\n",
       "\n",
       "    .dataframe thead th {\n",
       "        text-align: right;\n",
       "    }\n",
       "</style>\n",
       "<table border=\"1\" class=\"dataframe\">\n",
       "  <thead>\n",
       "    <tr style=\"text-align: right;\">\n",
       "      <th></th>\n",
       "      <th>Actual</th>\n",
       "      <th>Prediction</th>\n",
       "      <th>Difference</th>\n",
       "    </tr>\n",
       "  </thead>\n",
       "  <tbody>\n",
       "    <tr>\n",
       "      <th>0</th>\n",
       "      <td>2203.47185</td>\n",
       "      <td>2812.978319</td>\n",
       "      <td>609.506469</td>\n",
       "    </tr>\n",
       "    <tr>\n",
       "      <th>1</th>\n",
       "      <td>18648.42170</td>\n",
       "      <td>28003.943129</td>\n",
       "      <td>9355.521429</td>\n",
       "    </tr>\n",
       "    <tr>\n",
       "      <th>2</th>\n",
       "      <td>11305.93455</td>\n",
       "      <td>11641.218999</td>\n",
       "      <td>335.284449</td>\n",
       "    </tr>\n",
       "    <tr>\n",
       "      <th>3</th>\n",
       "      <td>2166.73200</td>\n",
       "      <td>4803.265704</td>\n",
       "      <td>2636.533704</td>\n",
       "    </tr>\n",
       "    <tr>\n",
       "      <th>4</th>\n",
       "      <td>5245.22690</td>\n",
       "      <td>8527.606289</td>\n",
       "      <td>3282.379389</td>\n",
       "    </tr>\n",
       "  </tbody>\n",
       "</table>\n",
       "</div>"
      ],
      "text/plain": [
       "        Actual    Prediction   Difference\n",
       "0   2203.47185   2812.978319   609.506469\n",
       "1  18648.42170  28003.943129  9355.521429\n",
       "2  11305.93455  11641.218999   335.284449\n",
       "3   2166.73200   4803.265704  2636.533704\n",
       "4   5245.22690   8527.606289  3282.379389"
      ]
     },
     "execution_count": 74,
     "metadata": {},
     "output_type": "execute_result"
    }
   ],
   "source": [
    "ytestl = np.ravel(ytest2)\n",
    "ypredl = np.ravel(ypredl)\n",
    "df_pred = pd.DataFrame({'Actual': ytestl, 'Prediction': ypredl, 'Difference': abs(ytestl-ypredl)})\n",
    "df_pred.head()"
   ]
  },
  {
   "cell_type": "code",
   "execution_count": 77,
   "id": "d60b4680",
   "metadata": {},
   "outputs": [
    {
     "data": {
      "text/plain": [
       "0.7574825064531081"
      ]
     },
     "execution_count": 77,
     "metadata": {},
     "output_type": "execute_result"
    }
   ],
   "source": [
    "li_accuracy = li.score(xtest2,ytest2)\n",
    "li_accuracy"
   ]
  },
  {
   "cell_type": "code",
   "execution_count": 78,
   "id": "e14bf8c4",
   "metadata": {},
   "outputs": [
    {
     "data": {
      "text/plain": [
       "34483231.45796222"
      ]
     },
     "execution_count": 78,
     "metadata": {},
     "output_type": "execute_result"
    }
   ],
   "source": [
    "li_mse = mean_squared_error(ytest2,ypredl)\n",
    "li_mse"
   ]
  },
  {
   "cell_type": "code",
   "execution_count": 79,
   "id": "3ea3aad3",
   "metadata": {},
   "outputs": [
    {
     "data": {
      "text/plain": [
       "4063.4311461869283"
      ]
     },
     "execution_count": 79,
     "metadata": {},
     "output_type": "execute_result"
    }
   ],
   "source": [
    "li_mae = mean_absolute_error(ytest2,ypredl)\n",
    "li_mae"
   ]
  },
  {
   "cell_type": "markdown",
   "id": "01f200f0",
   "metadata": {},
   "source": [
    "# Barplot using these values"
   ]
  },
  {
   "cell_type": "code",
   "execution_count": 83,
   "id": "e768853a",
   "metadata": {},
   "outputs": [
    {
     "data": {
      "text/html": [
       "<div>\n",
       "<style scoped>\n",
       "    .dataframe tbody tr th:only-of-type {\n",
       "        vertical-align: middle;\n",
       "    }\n",
       "\n",
       "    .dataframe tbody tr th {\n",
       "        vertical-align: top;\n",
       "    }\n",
       "\n",
       "    .dataframe thead th {\n",
       "        text-align: right;\n",
       "    }\n",
       "</style>\n",
       "<table border=\"1\" class=\"dataframe\">\n",
       "  <thead>\n",
       "    <tr style=\"text-align: right;\">\n",
       "      <th></th>\n",
       "      <th>Model</th>\n",
       "      <th>MAE</th>\n",
       "      <th>MSE</th>\n",
       "      <th>Accuracy</th>\n",
       "    </tr>\n",
       "  </thead>\n",
       "  <tbody>\n",
       "    <tr>\n",
       "      <th>0</th>\n",
       "      <td>KNN</td>\n",
       "      <td>0.303483</td>\n",
       "      <td>3.034826e-01</td>\n",
       "      <td>0.696517</td>\n",
       "    </tr>\n",
       "    <tr>\n",
       "      <th>1</th>\n",
       "      <td>Linear Regression</td>\n",
       "      <td>4063.431146</td>\n",
       "      <td>3.448323e+07</td>\n",
       "      <td>0.757483</td>\n",
       "    </tr>\n",
       "  </tbody>\n",
       "</table>\n",
       "</div>"
      ],
      "text/plain": [
       "               Model          MAE           MSE  Accuracy\n",
       "0                KNN     0.303483  3.034826e-01  0.696517\n",
       "1  Linear Regression  4063.431146  3.448323e+07  0.757483"
      ]
     },
     "execution_count": 83,
     "metadata": {},
     "output_type": "execute_result"
    }
   ],
   "source": [
    "models = ['KNN', 'Linear Regression']\n",
    "mae_scores = [knn_mae, li_mae]\n",
    "mse_scores = [knn_mse, li_mse]\n",
    "accuracy_scores = [knn_accuracy, li_accuracy]\n",
    "data = {'Model': models, 'MAE': mae_scores, 'MSE': mse_scores, 'Accuracy': accuracy_scores}\n",
    "new_df = pd.DataFrame(data)\n",
    "new_df"
   ]
  },
  {
   "cell_type": "code",
   "execution_count": 89,
   "id": "1c90b201",
   "metadata": {},
   "outputs": [
    {
     "data": {
      "image/png": "[encoded data removed]",
      "text/plain": [
       "<Figure size 640x480 with 1 Axes>"
      ]
     },
     "metadata": {},
     "output_type": "display_data"
    }
   ],
   "source": [
    "import matplotlib.pyplot as plt\n",
    "import seaborn as sns\n",
    "df_plot = new_df.melt('Model', var_name='Metric', value_name='Value')\n",
    "sns.barplot(x='Value', y='Model', hue='Metric', data=df_plot)\n",
    "plt.title('Model Performance Metrics')\n",
    "plt.xlabel('Value')\n",
    "plt.ylabel('Model')\n",
    "plt.show()"
   ]
  },
  {
   "cell_type": "code",
   "execution_count": null,
   "id": "2cd83c71",
   "metadata": {},
   "outputs": [],
   "source": []
  }
 ],
 "metadata": {
  "kernelspec": {
   "display_name": "Python 3 (ipykernel)",
   "language": "python",
   "name": "python3"
  },
  "language_info": {
   "codemirror_mode": {
    "name": "ipython",
    "version": 3
   },
   "file_extension": ".py",
   "mimetype": "text/x-python",
   "name": "python",
   "nbconvert_exporter": "python",
   "pygments_lexer": "ipython3",
   "version": "3.10.9"
  }
 },
 "nbformat": 4,
 "nbformat_minor": 5
}
